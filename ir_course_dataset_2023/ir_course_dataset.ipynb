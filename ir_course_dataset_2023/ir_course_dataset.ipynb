{
 "cells": [
  {
   "cell_type": "code",
   "execution_count": 2,
   "metadata": {},
   "outputs": [
    {
     "name": "stderr",
     "output_type": "stream",
     "text": [
      "PyTerrier 0.9.1 has loaded Terrier 5.7 (built by craigm on 2022-11-10 18:30) and terrier-helper 0.0.7\n",
      "\n",
      "No etc/terrier.properties, using terrier.default.properties for bootstrap configuration.\n"
     ]
    }
   ],
   "source": [
    "import pyterrier as pt\n",
    "pt.init()\n",
    "\n"
   ]
  },
  {
   "cell_type": "code",
   "execution_count": 9,
   "metadata": {},
   "outputs": [
    {
     "name": "stdout",
     "output_type": "stream",
     "text": [
      "Number of documents: 192509\n",
      "Number of terms: 171124\n",
      "Number of postings: 13188177\n",
      "Number of fields: 4\n",
      "Number of tokens: 20627415\n",
      "Field names: [title, doi, date, abstract]\n",
      "Positions:   false\n",
      "\n"
     ]
    }
   ],
   "source": [
    "dataset = pt.get_dataset('irds:beir/trec-covid')\n",
    "index = pt.IndexFactory.of('../indices/cord19')\n",
    "print(index.getCollectionStatistics().toString())"
   ]
  },
  {
   "cell_type": "code",
   "execution_count": 7,
   "metadata": {},
   "outputs": [
    {
     "name": "stdout",
     "output_type": "stream",
     "text": [
      "     qid                                              query\n",
      "0     51              what is the origin of the coronavirus\n",
      "1     52                where did the coronavirus come from\n",
      "2     53                     how did the coronavirus emerge\n",
      "3     54        what caused the outbreak of the coronavirus\n",
      "4     55  when and how was the coronavirus first identified\n",
      "..   ...                                                ...\n",
      "245  296  what is an mrna vaccine and how does it work a...\n",
      "246  297  what are the differences between mrna vaccines...\n",
      "247  298  what are the potential side effects of mrna co...\n",
      "248  299  how effective are mrna covid vaccines in preve...\n",
      "249  300  what is the recommended dosage and schedule fo...\n",
      "\n",
      "[250 rows x 2 columns]\n",
      "        qid     docno  label  iteration\n",
      "0        51  005b2j4b      2        4.5\n",
      "1        51  00fmeepz      1        4.0\n",
      "2        51  010vptx3      2        0.5\n",
      "3        51  0194oljo      1        2.5\n",
      "4        51  021q9884      1        4.0\n",
      "...     ...       ...    ...        ...\n",
      "346585  300  zvop8bxh      2        5.0\n",
      "346586  300  zwf26o63      1        5.0\n",
      "346587  300  zwsvlnwe      0        5.0\n",
      "346588  300  zxr01yln      1        5.0\n",
      "346589  300  zz8wvos9      1        5.0\n",
      "\n",
      "[346590 rows x 4 columns]\n"
     ]
    }
   ],
   "source": [
    "# get the arguement query \n",
    "import pandas as pd \n",
    "querys = pd.read_csv(\"argument_query.txt\",sep = \"\\t\", names = [\"qid\",\"query\"])\n",
    "print(querys)\n",
    "qrels = pd.read_csv(\"qrels.txt\", sep = \"\\t\", names = [\"qid\",\"docno\",\"label\", \"iteration\"])\n",
    "\n",
    "qrels = qrels.astype({\"docno\": str, \"qid\": str})\n",
    "print(qrels)\n",
    "querys = querys.astype({\"qid\": str})\n",
    "\n"
   ]
  },
  {
   "cell_type": "code",
   "execution_count": 10,
   "metadata": {},
   "outputs": [
    {
     "name": "stdout",
     "output_type": "stream",
     "text": [
      "     qid                                              query\n",
      "0      1                                 coronavirus origin\n",
      "1      2            coronavirus response to weather changes\n",
      "2      3                               coronavirus immunity\n",
      "3      4             how do people die from the coronavirus\n",
      "4      5                          animal models of covid 19\n",
      "..   ...                                                ...\n",
      "295  296  what is an mrna vaccine and how does it work a...\n",
      "296  297  what are the differences between mrna vaccines...\n",
      "297  298  what are the potential side effects of mrna co...\n",
      "298  299  how effective are mrna covid vaccines in preve...\n",
      "299  300  what is the recommended dosage and schedule fo...\n",
      "\n",
      "[300 rows x 2 columns]\n"
     ]
    }
   ],
   "source": [
    "new_query = pd.concat([dataset.get_topics(\"query\"), querys], ignore_index=True)\n",
    "print(new_query)"
   ]
  },
  {
   "cell_type": "code",
   "execution_count": 13,
   "metadata": {},
   "outputs": [
    {
     "name": "stdout",
     "output_type": "stream",
     "text": [
      "     qid                                              query\n",
      "0    287  what factors should be considered when decidin...\n",
      "1     13                        how does coronavirus spread\n",
      "2    155    how has coronavirus mortality changed over time\n",
      "3    273  what resources are available for those struggl...\n",
      "4    117  how do coronavirus super spreaders contribute ...\n",
      "..   ...                                                ...\n",
      "295  233  how does the phylogenetic structure of sars co...\n",
      "296   37                   sars cov 2 phylogenetic analysis\n",
      "297  149    can ace inhibitors be used to treat coronavirus\n",
      "298  103  how are hospitals prioritizing patients during...\n",
      "299  219  are there any long term health effects associa...\n",
      "\n",
      "[300 rows x 2 columns]\n"
     ]
    }
   ],
   "source": [
    "new_query_sample = new_query.sample(frac=1).reset_index(drop=True)\n",
    "print(new_query_sample)"
   ]
  },
  {
   "cell_type": "code",
   "execution_count": 24,
   "metadata": {},
   "outputs": [
    {
     "name": "stdout",
     "output_type": "stream",
     "text": [
      "240\n",
      "60\n"
     ]
    }
   ],
   "source": [
    "train_query = new_query_sample[:int(len(new_query_sample)*0.8)]\n",
    "test_query = new_query_sample[int(len(new_query_sample)*0.8):]\n",
    "print(len(train_query))\n",
    "print(len(test_query))\n",
    "\n",
    "train_query.to_csv(\"train_query.txt\", sep = \"\\t\", index = False)\n",
    "test_query.to_csv(\"test_query.txt\", sep = \"\\t\", index = False)"
   ]
  },
  {
   "cell_type": "code",
   "execution_count": 18,
   "metadata": {},
   "outputs": [
    {
     "name": "stdout",
     "output_type": "stream",
     "text": [
      "        qid     docno  label iteration\n",
      "0         1  005b2j4b      2         0\n",
      "1         1  00fmeepz      1         0\n",
      "2         1  g7dhmyyo      2         0\n",
      "3         1  0194oljo      1         0\n",
      "4         1  021q9884      1         0\n",
      "...     ...       ...    ...       ...\n",
      "412921  300  zvop8bxh      2       5.0\n",
      "412922  300  zwf26o63      1       5.0\n",
      "412923  300  zwsvlnwe      0       5.0\n",
      "412924  300  zxr01yln      1       5.0\n",
      "412925  300  zz8wvos9      1       5.0\n",
      "\n",
      "[412926 rows x 4 columns]\n"
     ]
    }
   ],
   "source": [
    "new_qrels = pd.concat([dataset.get_qrels(), qrels],ignore_index=True)\n",
    "print(new_qrels)"
   ]
  },
  {
   "cell_type": "code",
   "execution_count": 26,
   "metadata": {},
   "outputs": [
    {
     "name": "stdout",
     "output_type": "stream",
     "text": [
      "        qid     docno  label iteration\n",
      "0         1  005b2j4b      2         0\n",
      "1         1  00fmeepz      1         0\n",
      "2         1  g7dhmyyo      2         0\n",
      "3         1  0194oljo      1         0\n",
      "4         1  021q9884      1         0\n",
      "...     ...       ...    ...       ...\n",
      "412921  300  zvop8bxh      2       5.0\n",
      "412922  300  zwf26o63      1       5.0\n",
      "412923  300  zwsvlnwe      0       5.0\n",
      "412924  300  zxr01yln      1       5.0\n",
      "412925  300  zz8wvos9      1       5.0\n",
      "\n",
      "[334389 rows x 4 columns]\n",
      "        qid     docno  label iteration\n",
      "1565      2  01goni72      2         0\n",
      "1566      2  01yc7lzk      0         0\n",
      "1567      2  02cy1s8x      0         0\n",
      "1568      2  02f0opkr      0         0\n",
      "1569      2  vprjbzw8      2         0\n",
      "...     ...       ...    ...       ...\n",
      "407383  294  zwbc7nnn      0       5.0\n",
      "407384  294  zwsvlnwe      0       5.0\n",
      "407385  294  zxx7tikz      0       5.0\n",
      "407386  294  zy9lb7d9      1       5.0\n",
      "407387  294  zzkgjpnq      0       5.0\n",
      "\n",
      "[78537 rows x 4 columns]\n"
     ]
    }
   ],
   "source": [
    "qrels_train = new_qrels[new_qrels[\"qid\"].isin(train_query[\"qid\"])]\n",
    "qrels_test = new_qrels[new_qrels[\"qid\"].isin(test_query[\"qid\"])]\n",
    "print(qrels_train)\n",
    "print(qrels_test)\n",
    "qrels_train.to_csv(\"qrels_train.txt\", sep = \"\\t\", index = False)\n",
    "qrels_test.to_csv(\"qrels_test.txt\", sep = \"\\t\", index = False)"
   ]
  },
  {
   "attachments": {},
   "cell_type": "markdown",
   "metadata": {},
   "source": [
    "# Conducting the bm25 Search to the train and test"
   ]
  },
  {
   "cell_type": "code",
   "execution_count": 21,
   "metadata": {},
   "outputs": [
    {
     "data": {
      "text/html": [
       "<div>\n",
       "<style scoped>\n",
       "    .dataframe tbody tr th:only-of-type {\n",
       "        vertical-align: middle;\n",
       "    }\n",
       "\n",
       "    .dataframe tbody tr th {\n",
       "        vertical-align: top;\n",
       "    }\n",
       "\n",
       "    .dataframe thead th {\n",
       "        text-align: right;\n",
       "    }\n",
       "</style>\n",
       "<table border=\"1\" class=\"dataframe\">\n",
       "  <thead>\n",
       "    <tr style=\"text-align: right;\">\n",
       "      <th></th>\n",
       "      <th>name</th>\n",
       "      <th>map</th>\n",
       "      <th>ndcg_cut.10</th>\n",
       "      <th>ndcg_cut.20</th>\n",
       "      <th>ndcg_cut.30</th>\n",
       "      <th>ndcg_cut.100</th>\n",
       "      <th>P.10</th>\n",
       "      <th>P.20</th>\n",
       "      <th>P.30</th>\n",
       "      <th>P.100</th>\n",
       "    </tr>\n",
       "  </thead>\n",
       "  <tbody>\n",
       "    <tr>\n",
       "      <th>0</th>\n",
       "      <td>BR(BM25)</td>\n",
       "      <td>0.131922</td>\n",
       "      <td>0.435345</td>\n",
       "      <td>0.406701</td>\n",
       "      <td>0.389017</td>\n",
       "      <td>0.332297</td>\n",
       "      <td>0.478333</td>\n",
       "      <td>0.448542</td>\n",
       "      <td>0.425</td>\n",
       "      <td>0.355792</td>\n",
       "    </tr>\n",
       "  </tbody>\n",
       "</table>\n",
       "</div>"
      ],
      "text/plain": [
       "       name       map  ndcg_cut.10  ndcg_cut.20  ndcg_cut.30  ndcg_cut.100  \\\n",
       "0  BR(BM25)  0.131922     0.435345     0.406701     0.389017      0.332297   \n",
       "\n",
       "       P.10      P.20   P.30     P.100  \n",
       "0  0.478333  0.448542  0.425  0.355792  "
      ]
     },
     "execution_count": 21,
     "metadata": {},
     "output_type": "execute_result"
    }
   ],
   "source": [
    "bm25 = pt.BatchRetrieve(index, wmodel=\"BM25\")\n",
    "pt.Experiment(\n",
    "    [bm25],\n",
    "    train_query,\n",
    "    qrels_train,\n",
    "    eval_metrics=[\"map\", \"ndcg_cut.10\", \"ndcg_cut.20\", \"ndcg_cut.30\", \"ndcg_cut.100\", \"P.10\", \"P.20\", \"P.30\", \"P.100\"],\n",
    ")"
   ]
  },
  {
   "cell_type": "code",
   "execution_count": 23,
   "metadata": {},
   "outputs": [
    {
     "data": {
      "text/html": [
       "<div>\n",
       "<style scoped>\n",
       "    .dataframe tbody tr th:only-of-type {\n",
       "        vertical-align: middle;\n",
       "    }\n",
       "\n",
       "    .dataframe tbody tr th {\n",
       "        vertical-align: top;\n",
       "    }\n",
       "\n",
       "    .dataframe thead th {\n",
       "        text-align: right;\n",
       "    }\n",
       "</style>\n",
       "<table border=\"1\" class=\"dataframe\">\n",
       "  <thead>\n",
       "    <tr style=\"text-align: right;\">\n",
       "      <th></th>\n",
       "      <th>name</th>\n",
       "      <th>map</th>\n",
       "      <th>ndcg_cut.10</th>\n",
       "      <th>ndcg_cut.20</th>\n",
       "      <th>ndcg_cut.30</th>\n",
       "      <th>ndcg_cut.100</th>\n",
       "      <th>P.10</th>\n",
       "      <th>P.20</th>\n",
       "      <th>P.30</th>\n",
       "      <th>P.100</th>\n",
       "    </tr>\n",
       "  </thead>\n",
       "  <tbody>\n",
       "    <tr>\n",
       "      <th>0</th>\n",
       "      <td>BR(BM25)</td>\n",
       "      <td>0.158893</td>\n",
       "      <td>0.44499</td>\n",
       "      <td>0.428813</td>\n",
       "      <td>0.421533</td>\n",
       "      <td>0.365465</td>\n",
       "      <td>0.505</td>\n",
       "      <td>0.480833</td>\n",
       "      <td>0.472778</td>\n",
       "      <td>0.401</td>\n",
       "    </tr>\n",
       "  </tbody>\n",
       "</table>\n",
       "</div>"
      ],
      "text/plain": [
       "       name       map  ndcg_cut.10  ndcg_cut.20  ndcg_cut.30  ndcg_cut.100  \\\n",
       "0  BR(BM25)  0.158893      0.44499     0.428813     0.421533      0.365465   \n",
       "\n",
       "    P.10      P.20      P.30  P.100  \n",
       "0  0.505  0.480833  0.472778  0.401  "
      ]
     },
     "execution_count": 23,
     "metadata": {},
     "output_type": "execute_result"
    }
   ],
   "source": [
    "pt.Experiment(\n",
    "    [bm25],\n",
    "    test_query,\n",
    "    qrels_test,\n",
    "    eval_metrics=[\"map\", \"ndcg_cut.10\", \"ndcg_cut.20\", \"ndcg_cut.30\", \"ndcg_cut.100\", \"P.10\", \"P.20\", \"P.30\", \"P.100\"],\n",
    ")"
   ]
  },
  {
   "cell_type": "code",
   "execution_count": null,
   "metadata": {},
   "outputs": [],
   "source": []
  }
 ],
 "metadata": {
  "kernelspec": {
   "display_name": "ACL",
   "language": "python",
   "name": "python3"
  },
  "language_info": {
   "codemirror_mode": {
    "name": "ipython",
    "version": 3
   },
   "file_extension": ".py",
   "mimetype": "text/x-python",
   "name": "python",
   "nbconvert_exporter": "python",
   "pygments_lexer": "ipython3",
   "version": "3.8.15"
  },
  "orig_nbformat": 4
 },
 "nbformat": 4,
 "nbformat_minor": 2
}
