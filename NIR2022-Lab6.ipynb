{
 "cells": [
  {
   "cell_type": "markdown",
   "metadata": {},
   "source": [
    "# NIR 2022 - Lab 6: Neural Re-Ranking with Transformers"
   ]
  },
  {
   "cell_type": "code",
   "execution_count": null,
   "metadata": {},
   "outputs": [],
   "source": [
    "import pyterrier as pt\n",
    "import os\n",
    "\n",
    "pt.init(\n",
    "        mem=8000,\n",
    "        version=\"snapshot\",\n",
    "        tqdm=\"notebook\",\n",
    "        boot_packages=[\"com.github.terrierteam:terrier-prf:-SNAPSHOT\"],\n",
    "    )"
   ]
  },
  {
   "cell_type": "code",
   "execution_count": null,
   "metadata": {},
   "outputs": [],
   "source": [
    "# load the index\n",
    "index = pt.IndexFactory.of(\"your index\")\n",
    "print(index.getCollectionStatistics().toString())\n"
   ]
  },
  {
   "cell_type": "code",
   "execution_count": null,
   "metadata": {},
   "outputs": [],
   "source": [
    "# loading your train and test dataset\n",
    "import pandas as pd\n",
    "test_query = pd.read_csv(\"your query path\", dtype=str)\n",
    "test_qrel = pd.read_csv(\"your qrel path\", dtype=str)\n",
    "\n",
    "test_qrel = test_qrel.astype({\"label\": \"int32\"})"
   ]
  },
  {
   "cell_type": "code",
   "execution_count": null,
   "metadata": {},
   "outputs": [],
   "source": [
    "# load search model\n",
    "BM25 = pt.BatchRetrieve(index, wmodel=\"BM25\")"
   ]
  },
  {
   "cell_type": "code",
   "execution_count": null,
   "metadata": {},
   "outputs": [],
   "source": [
    "result = pt.Experiment([BM25], test_query, test_qrel,eval_metrics=[\"map\",\"ndcg_cut_20\"],names = [\"BM25\"])\n",
    "result"
   ]
  },
  {
   "cell_type": "markdown",
   "metadata": {},
   "source": [
    "## reranking"
   ]
  },
  {
   "cell_type": "code",
   "execution_count": null,
   "metadata": {},
   "outputs": [],
   "source": [
    "# reranking\n",
    "from sentence_transformers import SentenceTransformer, util\n",
    "\n",
    "# Load pre-trained model\n",
    "model = SentenceTransformer('msmarco-distilbert-base-v3')\n",
    "\n",
    "# Sentences are encoded by calling model.encode()\n",
    "query_embedding = model.encode('How big is London')\n",
    "doc_embedding = model.encode('London has 9,787,426 inhabitants at the 2011 census')\n",
    "\n",
    "# Compute cosine similarity between query and document representations\n",
    "cos_sim = util.pytorch_cos_sim(query_embedding, doc_embedding)\n",
    "print(\"Cosine-Similarity:\", cos_sim)\n"
   ]
  },
  {
   "cell_type": "markdown",
   "metadata": {},
   "source": [
    "### cross encoder"
   ]
  },
  {
   "cell_type": "code",
   "execution_count": null,
   "metadata": {},
   "outputs": [],
   "source": [
    "from sentence_transformers import CrossEncoder\n",
    "model = CrossEncoder('cross-encoder/ms-marco-MiniLM-L-12-v2')\n",
    "scores = model.predict([('Query1', 'Paragraph1'), ('Query2', 'Paragraph2')])\n",
    "scores"
   ]
  },
  {
   "cell_type": "code",
   "execution_count": null,
   "metadata": {},
   "outputs": [],
   "source": [
    "# load runs:\n",
    "import collections\n",
    "from tqdm import tqdm\n",
    "def load_run(path):\n",
    "    \"\"\"Loads run into a dict of key: query_id, value: list of candidate doc\n",
    "    ids.\"\"\"\n",
    "    print('Loading run...')\n",
    "    run = collections.OrderedDict()\n",
    "    with open(path) as f:\n",
    "        for line in tqdm(f):\n",
    "            query_id, _, doc_title, rank, _, _ = line.split(' ')\n",
    "            if query_id not in run:\n",
    "                run[query_id] = []\n",
    "            run[query_id].append((doc_title, int(rank)))\n",
    "\n",
    "    # Sort candidate docs by rank.\n",
    "    sorted_run = collections.OrderedDict()\n",
    "    for query_id, doc_titles_ranks in run.items():\n",
    "        sorted(doc_titles_ranks, key=lambda x: x[1])\n",
    "        doc_titles = [doc_titles for doc_titles, _ in doc_titles_ranks]\n",
    "        sorted_run[query_id] = doc_titles\n",
    "\n",
    "    return sorted_run\n",
    "\n",
    "run = load_run(\"your run result\")"
   ]
  },
  {
   "cell_type": "code",
   "execution_count": null,
   "metadata": {},
   "outputs": [],
   "source": [
    "# load corpus\n",
    "import jsonlines\n",
    "\n",
    "corpus = {}\n",
    "with jsonlines.open(\"ir_course_dataset/corpus.jsonl\", mode=\"r\") as reader:\n",
    "    for row in tqdm(reader):\n",
    "            docno = row[\"_id\"]\n",
    "            title = row[\"title\"]\n",
    "            text = row[\"text\"]\n",
    "\n",
    "            corpus[docno] = text\n",
    "\n",
    "    print(\"corpus num\",len(corpus))"
   ]
  },
  {
   "cell_type": "code",
   "execution_count": null,
   "metadata": {},
   "outputs": [],
   "source": [
    "# Pipeline\n",
    "import spacy\n",
    "# Sentencizer\n",
    "nlp = spacy.blank(\"en\")\n",
    "nlp.add_pipe('sentencizer')\n",
    "\n",
    "stride = 5\n",
    "max_length = 10\n",
    "queries = dict(zip(test_query['qid'].to_list(), test_query['query'].to_list()))\n",
    "\n",
    "n_segments = 0\n",
    "n_docs = 0\n",
    "n_doc_ids_not_found = 0\n",
    "\n",
    "model_name = \"cross\"\n",
    "cross_run = []\n",
    "\n",
    "for query_id, doc_ids in tqdm(run.items(), total=len(run)):\n",
    "  \n",
    "    print(f'{query_id}: Converting to segments...')\n",
    "    query_text = queries[query_id]\n",
    "    passages = []\n",
    "    for doc_id in doc_ids:\n",
    "        if doc_id not in corpus:\n",
    "            n_doc_ids_not_found += 1\n",
    "            continue\n",
    "        n_docs += 1\n",
    "        doc_text = corpus[doc_id]\n",
    "        doc = nlp(doc_text[:10000])\n",
    "        sentences = [str(sent).strip() for sent in doc.sents]\n",
    "        for i in range(0, len(sentences), stride):\n",
    "            segment = ' '.join(sentences[i:i + max_length])\n",
    "            passages.append([doc_id, segment])\n",
    "            n_segments += 1\n",
    "            if i + max_length >= len(sentences):\n",
    "                break\n",
    "\n",
    "    print(f'{query_id}: Reranking...')\n",
    "\n",
    "\n",
    "    # get the score \n",
    "    # todo\n",
    "    \n",
    "    # Sort the scores in decreasing order\n",
    "    # todo\n",
    "\n",
    "    # Save the results in TREC format\n",
    "   \n",
    "    # Store ranking on disk in TREC format\n",
    "    \n",
    "with open(\"ir_course_run/\" + f\"{model_name}.run\", \"w\") as f:\n",
    "    for l in cross_run:\n",
    "        f.write(l + \"\\n\")    \n"
   ]
  },
  {
   "cell_type": "markdown",
   "metadata": {},
   "source": [
    "## evaluation using pytrec_eval"
   ]
  },
  {
   "cell_type": "code",
   "execution_count": null,
   "metadata": {},
   "outputs": [],
   "source": [
    "# test runs\n",
    "\n",
    "import pytrec_eval\n",
    "# Load run\n",
    "with open(\"ir_course_run/cross.run\", 'r') as f_run:\n",
    "    tf_run = pytrec_eval.parse_run(f_run)\n",
    "\n",
    "qrels_dict = dict()\n",
    "for _, r in test_qrel.iterrows():\n",
    "    qid, docno, label, iteration = r\n",
    "    if qid not in qrels_dict:\n",
    "        qrels_dict[qid] = dict()\n",
    "    qrels_dict[qid][docno] = int(label)\n",
    "\n",
    "metrics = {\"map\", \"ndcg_cut_5\", \"ndcg_cut_10\", \"ndcg_cut_20\"}\n",
    "evaluator = pytrec_eval.RelevanceEvaluator(qrels_dict, metrics)\n",
    "\n",
    "# test \n",
    "tf_evals = evaluator.evaluate(tf_run)"
   ]
  },
  {
   "cell_type": "code",
   "execution_count": null,
   "metadata": {},
   "outputs": [],
   "source": [
    "tf_metric2vals = {m: [] for m in metrics}\n",
    "for q, d in tf_evals.items():\n",
    "    for m, val in d.items():\n",
    "        tf_metric2vals[m].append(val)\n",
    "\n",
    "# Compute average across topics\n",
    "for m in metrics:\n",
    "    print(m, '\\t', pytrec_eval.compute_aggregated_measure(m, tf_metric2vals[m]))"
   ]
  },
  {
   "cell_type": "code",
   "execution_count": null,
   "metadata": {},
   "outputs": [],
   "source": []
  }
 ],
 "metadata": {
  "interpreter": {
   "hash": "d8ed0073c41b023cdd22b6268c6b3f0c9b6d97a6234cf243afa672a36c79f6c6"
  },
  "kernelspec": {
   "display_name": "Python 3.9.5 ('base')",
   "language": "python",
   "name": "python3"
  },
  "language_info": {
   "codemirror_mode": {
    "name": "ipython",
    "version": 3
   },
   "file_extension": ".py",
   "mimetype": "text/x-python",
   "name": "python",
   "nbconvert_exporter": "python",
   "pygments_lexer": "ipython3",
   "version": "3.9.5"
  },
  "orig_nbformat": 4
 },
 "nbformat": 4,
 "nbformat_minor": 2
}
